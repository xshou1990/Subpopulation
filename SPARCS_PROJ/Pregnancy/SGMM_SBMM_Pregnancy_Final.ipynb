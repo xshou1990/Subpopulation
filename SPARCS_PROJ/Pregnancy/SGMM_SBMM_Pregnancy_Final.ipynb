{
 "cells": [
  {
   "cell_type": "code",
   "execution_count": 1,
   "metadata": {},
   "outputs": [],
   "source": [
    "import sys\n",
    "sys.path.append('../sgmm')\n",
    "sys.path.append('../metrics')\n",
    "sys.path.append('../Misc')\n",
    "sys.path.append('../visual')\n",
    "sys.path.append('../otherModels')\n",
    "sys.path.append('../LogOdds')"
   ]
  },
  {
   "cell_type": "code",
   "execution_count": 2,
   "metadata": {},
   "outputs": [],
   "source": [
    "import numpy as np\n",
    "import pandas as pd\n",
    "def warn(*args, **kwargs):\n",
    "    pass\n",
    "import warnings\n",
    "warnings.warn = warn\n",
    "import seaborn as sns\n",
    "import matplotlib\n",
    "from matplotlib import pyplot as plt\n",
    "from sklearn import metrics\n",
    "from sklearn.metrics import f1_score\n",
    "from sklearn.model_selection import train_test_split\n",
    "from supervisedGmm import SupervisedGMM\n",
    "from metricsFunctions import calc_metrics, CalculateSoftLogReg, optimalTau,metrics_cluster,sgmmResults\n",
    "from mlModels import logisticRegressionCv2, neural_nets, randomforests,\\\n",
    "kmeansLogRegr, xboost, gradboost,kmeansBNB\n",
    "from sklearn.naive_bayes import BernoulliNB\n",
    "from supervisedBmm import SupervisedBMM\n",
    "from utility import entropy,asymm_entropy,purity\n",
    "from ftest_logodds import ftest_uncorr\n",
    "from ftest_logodds import restest\n",
    "#from clustmap import plotclustmap\n",
    "from clustmap_newborn import plotclustmap\n",
    "from sklearn.linear_model import LogisticRegression"
   ]
  },
  {
   "cell_type": "code",
   "execution_count": 3,
   "metadata": {},
   "outputs": [],
   "source": [
    "%load_ext autoreload\n",
    "%autoreload 2"
   ]
  },
  {
   "cell_type": "code",
   "execution_count": 4,
   "metadata": {},
   "outputs": [
    {
     "name": "stdout",
     "output_type": "stream",
     "text": [
      "100679 244\n"
     ]
    }
   ],
   "source": [
    "sparcs = pd.read_csv(\"~/data/CDPHP/xiao/SPARCS_Subsets/Obsolete/sparcs25%Preg_DeHos_Outflow_Region.csv\") \n",
    "\n",
    "d_preg_tr, d_preg_te = train_test_split(sparcs, test_size=0.2, random_state = 1512)\n",
    "\n",
    "print(d_preg_tr.shape[0], d_preg_tr.shape[1])"
   ]
  },
  {
   "cell_type": "code",
   "execution_count": 5,
   "metadata": {},
   "outputs": [],
   "source": [
    "# metric matrix columns\n",
    "columns = ['cluster', 'size', 'high_cost%','low_cost%', \n",
    "                       'TP', 'TN', 'FP', 'FN', \n",
    "                       'FPR', 'specificity', 'sensitivity', 'precision',\n",
    "                       'accuracy', 'balanced accuracy', 'f1', 'auc']"
   ]
  },
  {
   "cell_type": "code",
   "execution_count": 6,
   "metadata": {},
   "outputs": [],
   "source": [
    "# feature list\n",
    "features = list(sparcs.iloc[:,:-1])"
   ]
  },
  {
   "cell_type": "code",
   "execution_count": 7,
   "metadata": {},
   "outputs": [],
   "source": [
    "#Preparing the data\n",
    "Xtrain, Xtest = d_preg_tr.iloc[:,0:-1].values, d_preg_te.iloc[:,0:-1].values\n",
    "ytrain, ytest = d_preg_tr.iloc[:,-1].values.astype(int), d_preg_te.iloc[:,-1].values.astype(int)"
   ]
  },
  {
   "cell_type": "markdown",
   "metadata": {},
   "source": [
    "# Nonclustering Classification"
   ]
  },
  {
   "cell_type": "code",
   "execution_count": 8,
   "metadata": {},
   "outputs": [],
   "source": [
    "# Fitting a Bernoulli Naive Bayes\n",
    "bnb = BernoulliNB(alpha= 1,class_prior=[0.75,0.25])\n",
    "bnb.fit(Xtrain, ytrain)\n",
    "probTrainNB,probTestNB = bnb.predict_proba(Xtrain)[:,1], bnb.predict_proba(Xtest)[:,1]\n",
    "tau = optimalTau(probTrainNB, ytrain)\n",
    "metTest,_ = calc_metrics(custom_prob = probTestNB.copy(), tau = tau, y = ytest)\n",
    "metTrain ,_= calc_metrics(custom_prob = probTrainNB.copy(), tau = tau, y = ytrain)\n",
    "metTestNB = pd.DataFrame( [metTest], columns = columns)\n",
    "metTrainNB = pd.DataFrame( [metTrain], columns = columns)"
   ]
  },
  {
   "cell_type": "code",
   "execution_count": 9,
   "metadata": {},
   "outputs": [],
   "source": [
    "#FITTING L1 LOGISTIC REGRESSION\n",
    "Cs = [1,10,100,1000]\n",
    "pL1, probTestL1, probTrainL1 = logisticRegressionCv2( Xtrain = Xtrain,\n",
    "                                                  ytrain = ytrain,\n",
    "                                                  Xtest = Xtest,\n",
    "                                                  ytest = ytest, Cs = Cs )\n",
    "tau = optimalTau(probTrainL1, ytrain)\n",
    "\n",
    "metTest,_ = calc_metrics(custom_prob = probTestL1.copy(), tau = tau, y = ytest)\n",
    "metTrain ,_= calc_metrics(custom_prob = probTrainL1.copy(), tau = tau, y = ytrain)\n",
    "metTestL1 = pd.DataFrame( [metTest], columns = columns)\n",
    "metTrainL1 = pd.DataFrame( [metTrain], columns = columns)"
   ]
  },
  {
   "cell_type": "code",
   "execution_count": 10,
   "metadata": {},
   "outputs": [],
   "source": [
    "#Fitting Neural Nets\n",
    "pNN, probTestNN, probTrainNN = neural_nets( Xtrain = Xtrain,\n",
    "                                                  ytrain = ytrain,\n",
    "                                                  Xtest = Xtest,\n",
    "                                                  ytest = ytest,\n",
    "                                                  h_l_s = (4 ,4, 2))\n",
    "tau = optimalTau(probTrainNN, ytrain)\n",
    "\n",
    "metTest,_ = calc_metrics(custom_prob = probTestNN.copy(), tau = tau, y = ytest)\n",
    "metTrain ,_= calc_metrics(custom_prob = probTrainNN.copy(), tau = tau, y = ytrain)\n",
    "metTestNN = pd.DataFrame( [metTest], columns = columns)\n",
    "metTrainNN = pd.DataFrame( [metTrain], columns = columns)"
   ]
  },
  {
   "cell_type": "code",
   "execution_count": 11,
   "metadata": {},
   "outputs": [],
   "source": [
    "#RANDOM FORESTS\n",
    "params, probTest, probTrain = randomforests(Xtrain = Xtrain, ytrain = ytrain,\n",
    "                                            Xtest = Xtest, ytest = ytest)\n",
    "\n",
    "tau = optimalTau(probTrain, ytrain)\n",
    "metTest,_ = calc_metrics(custom_prob = probTest.copy(), tau = tau, y = ytest)\n",
    "metTrain ,_= calc_metrics(custom_prob = probTrain.copy(), tau = tau, y = ytrain)\n",
    "\n",
    "#PANDA MATRICES\n",
    "metTestRF = pd.DataFrame( [metTest], columns = columns)\n",
    "metTrainRF = pd.DataFrame( [metTrain], columns = columns)\n"
   ]
  },
  {
   "cell_type": "code",
   "execution_count": 12,
   "metadata": {},
   "outputs": [],
   "source": [
    "#Ada boost\n",
    "params, probTest, probTrain = xboost(Xtrain = Xtrain, ytrain = ytrain,\n",
    "                                            Xtest = Xtest, ytest = ytest)\n",
    "\n",
    "tau = optimalTau(probTrain, ytrain)\n",
    "metTest,_ = calc_metrics(custom_prob = probTest.copy(), tau = tau, y = ytest)\n",
    "metTrain ,_= calc_metrics(custom_prob = probTrain.copy(), tau = tau, y = ytrain)\n",
    "\n",
    "#PANDA MATRICES\n",
    "metTestXB = pd.DataFrame( [metTest], columns = columns)\n",
    "metTrainXB = pd.DataFrame( [metTrain], columns = columns)"
   ]
  },
  {
   "cell_type": "code",
   "execution_count": 13,
   "metadata": {},
   "outputs": [],
   "source": [
    "#Grad boost\n",
    "params, probTest, probTrain = gradboost(Xtrain = Xtrain, ytrain = ytrain,\n",
    "                                            Xtest = Xtest, ytest = ytest)\n",
    "\n",
    "tau = optimalTau(probTrain, ytrain)\n",
    "metTest,_ = calc_metrics(custom_prob = probTest.copy(), tau = tau, y = ytest)\n",
    "metTrain ,_= calc_metrics(custom_prob = probTrain.copy(), tau = tau, y = ytrain)\n",
    "\n",
    "#PANDA MATRICES\n",
    "metTestGB = pd.DataFrame( [metTest], columns = columns)\n",
    "metTrainGB = pd.DataFrame( [metTrain], columns = columns)"
   ]
  },
  {
   "cell_type": "markdown",
   "metadata": {},
   "source": [
    "# Sequential clustering + classification"
   ]
  },
  {
   "cell_type": "code",
   "execution_count": 14,
   "metadata": {},
   "outputs": [],
   "source": [
    "#Kmeans + LG\n",
    "np.random.seed( seed = 0 )\n",
    "\n",
    "n_clusters = 8\n",
    "\n",
    "Cs = [1,10,100,1000]\n",
    "kmeansParams = kmeansLogRegr(Xtrain = Xtrain, ytrain = ytrain, \n",
    "                             Xtest = Xtest, ytest = ytest, Cs = Cs, n_clusters = n_clusters)\n",
    "\n",
    "modelsKM = kmeansParams['models']\n",
    "labTrKM, labTestKM  = kmeansParams['labelsTrain'], kmeansParams['labelsTest']\n",
    "\n",
    "\n",
    "# KMS class accuracy\n",
    "metTrainKMc, metTestKMc = metrics_cluster(models = modelsKM, ytrain = ytrain,\n",
    "                                        ytest = ytest, testlabels = labTestKM,\n",
    "                                        trainlabels = labTrKM,\n",
    "                                        Xtrain = Xtrain, Xtest = Xtest)"
   ]
  },
  {
   "cell_type": "code",
   "execution_count": 15,
   "metadata": {},
   "outputs": [],
   "source": [
    "# KMS LG overall accuaracy\n",
    "probTr= np.array([])\n",
    "for i in range(len(kmeansParams['probTrain'])):\n",
    "    probTr = np.append(probTr,kmeansParams['probTrain'][i])\n",
    "yTr = np. array([])\n",
    "for i in range(n_clusters):\n",
    "    yTr = np.append(yTr,ytrain[labTrKM==i])\n",
    "\n",
    "probTe= np.array([])\n",
    "for i in range(len(kmeansParams['probTest'])):\n",
    "    probTe = np.append(probTe,kmeansParams['probTest'][i])\n",
    "yTe = np. array([])\n",
    "for i in range(n_clusters):\n",
    "    yTe = np.append(yTe,ytest[labTestKM==i])\n",
    "\n",
    "tau = optimalTau(probTr, yTr)\n",
    "\n",
    "metTrain ,__= calc_metrics(y = yTr, tau = tau, custom_prob = probTr)\n",
    "metTest ,__= calc_metrics( y = yTe, tau = tau, custom_prob = probTe)\n",
    "metTrainKMS = pd.DataFrame( [metTrain], columns = columns)\n",
    "metTestKMS = pd.DataFrame( [metTest], columns = columns)"
   ]
  },
  {
   "cell_type": "code",
   "execution_count": 16,
   "metadata": {},
   "outputs": [],
   "source": [
    "# kmeans + NB classifier\n",
    "\n",
    "np.random.seed( seed = 0 )\n",
    "\n",
    "n_clusters = 8\n",
    "\n",
    "kmeansNBParams = kmeansBNB( Xtrain = Xtrain, ytrain = ytrain, \n",
    "                             Xtest = Xtest, ytest = ytest, n_clusters = n_clusters)\n",
    "modelsKMNB = kmeansNBParams['models']\n",
    "labTrKMNB, labTestKMNB  = kmeansNBParams['labelsTrain'], kmeansNBParams['labelsTest']\n",
    "\n",
    "\n",
    "# KMS class accuracy\n",
    "metTrainKMcNB, metTestKMcNB = metrics_cluster(models = modelsKMNB, ytrain = ytrain,\n",
    "                                        ytest = ytest, testlabels = labTestKMNB,\n",
    "                                        trainlabels = labTrKMNB,\n",
    "                                        Xtrain = Xtrain, Xtest = Xtest)"
   ]
  },
  {
   "cell_type": "code",
   "execution_count": 17,
   "metadata": {},
   "outputs": [],
   "source": [
    "# KMS + NB overall accuaracy\n",
    "probTr= np.array([])\n",
    "for i in range(len(kmeansNBParams['probTrain'])):\n",
    "    probTr = np.append(probTr,kmeansNBParams['probTrain'][i])\n",
    "yTr = np. array([])\n",
    "for i in range(n_clusters):\n",
    "    yTr = np.append(yTr,ytrain[labTrKMNB==i])\n",
    "\n",
    "probTe= np.array([])\n",
    "for i in range(len(kmeansNBParams['probTest'])):\n",
    "    probTe = np.append(probTe,kmeansNBParams['probTest'][i])\n",
    "yTe = np. array([])\n",
    "for i in range(n_clusters):\n",
    "    yTe = np.append(yTe,ytest[labTestKMNB==i])\n",
    "\n",
    "tau = optimalTau(probTr, yTr)\n",
    "\n",
    "metTrain ,__= calc_metrics(y = yTr, tau = tau, custom_prob = probTr)\n",
    "metTest ,__= calc_metrics( y = yTe, tau = tau, custom_prob = probTe)\n",
    "metTrainKMSNB = pd.DataFrame( [metTrain], columns = columns)\n",
    "metTestKMSNB = pd.DataFrame( [metTest], columns = columns)"
   ]
  },
  {
   "cell_type": "code",
   "execution_count": 18,
   "metadata": {},
   "outputs": [
    {
     "name": "stdout",
     "output_type": "stream",
     "text": [
      "GMM iteration: 0, error: 0.079609291872298\n",
      "GMM iteration: 1, error: 0.024964111253298567\n",
      "GMM iteration: 2, error: 0.009124619169548738\n",
      "GMM iteration: 3, error: 0.010121733978091034\n",
      "GMM iteration: 4, error: 0.043702628171365936\n",
      "GMM iteration: 5, error: 0.010723913395209839\n",
      "GMM iteration: 6, error: 0.002546126235531857\n",
      "GMM iteration: 7, error: 0.0008452422112664137\n"
     ]
    }
   ],
   "source": [
    "# GMM + Classification (LG) (simple = 1)\n",
    "np.random.seed( seed = 0 )\n",
    "\n",
    "max_iter = 30\n",
    "max_iter2 = 30\n",
    "n_clusters = 8\n",
    "\n",
    "model = SupervisedGMM( max_iter = max_iter, max_iter2 = max_iter2, n_clusters = n_clusters, verbose = 0)\n",
    "model = model.fit(Xtrain = Xtrain, ytrain = ytrain, simple = 1, kmeans = 1)\n",
    "# Retrieve memberships and labels\n",
    "mTrainGMMLG = model.mTrain\n",
    "logisRegre = model.LogRegr\n",
    "fitP = model.fitParams\n",
    "labTrain  = fitP['labTrain']\n",
    "mTestGMMLG = model.predict_GMMS(Xtest)\n",
    "labTest = np.argmax( mTestGMMLG, axis = 1 )\n",
    "\n",
    "# Summary of overall accuracy \n",
    "probTest, probTrain = model.predict_prob_int( Xtest = Xtest, Xtrain = Xtrain )\n",
    "tau = optimalTau(probTrain, ytrain)\n",
    "metTest,_ = calc_metrics(custom_prob = probTest.copy(), tau = tau, y = ytest)\n",
    "metTrain ,_= calc_metrics(custom_prob = probTrain.copy(), tau = tau, y = ytrain)\n",
    "metTestGMMLG = pd.DataFrame( [metTest], columns = columns)\n",
    "metTrainGMMLG = pd.DataFrame( [metTrain], columns = columns)\n",
    "\n",
    "# Cluster summary\n",
    "metTrainGMMLGc, metTestGMMLGc = metrics_cluster(models = logisRegre, ytrain = ytrain,\n",
    "                                        ytest = ytest, testlabels = labTest,\n",
    "                                        trainlabels = labTrain,\n",
    "                                        Xtrain = Xtrain, Xtest = Xtest)\n",
    "\n"
   ]
  },
  {
   "cell_type": "code",
   "execution_count": 19,
   "metadata": {
    "scrolled": true
   },
   "outputs": [
    {
     "name": "stdout",
     "output_type": "stream",
     "text": [
      "BMM iteration: 0, error: 0.006002270592857484\n",
      "BMM iteration: 1, error: 0.0030627879051933807\n",
      "BMM iteration: 2, error: 0.00218517904891367\n",
      "BMM iteration: 3, error: 0.0017304649610444048\n",
      "BMM iteration: 4, error: 0.0014054314382476534\n",
      "BMM iteration: 5, error: 0.0010982454684431001\n",
      "BMM iteration: 6, error: 0.0008012229143387406\n"
     ]
    }
   ],
   "source": [
    "# BMM + Classification (LG)\n",
    "np.random.seed( seed = 0 )\n",
    "\n",
    "max_iter = 30\n",
    "max_iter2 = 30\n",
    "n_clusters = 8\n",
    "\n",
    "modelB = SupervisedBMM( n_clusters = n_clusters,max_iter = max_iter,max_iter2 = max_iter2)\n",
    "modelB = modelB.fitB( Xtrain = Xtrain, Xtest = Xtest, ytrain = ytrain,simple=1, kmeans= 1)\n",
    "\n",
    "mTrainBMMLG = modelB.mTrain\n",
    "logisRegre = modelB.LogRegr\n",
    "fitP = modelB.fitParams\n",
    "labTrain  = fitP['labTrain']\n",
    "mTestBMMLG = modelB.predict_BMMS(Xtest)\n",
    "labTest = np.argmax( mTestBMMLG, axis = 1 )\n",
    "\n",
    "probTest, probTrain = modelB.predict_prob_int_B( Xtest = Xtest, Xtrain = Xtrain )\n",
    "tau = optimalTau(probTrain, ytrain)\n",
    "metTest,_ = calc_metrics(custom_prob = probTest.copy(), tau = tau, y = ytest)\n",
    "metTrain ,_= calc_metrics(custom_prob = probTrain.copy(), tau = tau, y = ytrain)\n",
    "metTestBMMLG = pd.DataFrame( [metTest], columns = columns)\n",
    "metTrainBMMLG = pd.DataFrame( [metTrain], columns = columns)\n",
    "\n",
    "metTrainBMMLGc, metTestBMMLGc = metrics_cluster(models = logisRegre, ytrain = ytrain,\n",
    "                                        ytest = ytest, testlabels = labTest,\n",
    "                                        trainlabels = labTrain,\n",
    "                                        Xtrain = Xtrain, Xtest = Xtest)\n"
   ]
  },
  {
   "cell_type": "code",
   "execution_count": 20,
   "metadata": {
    "scrolled": true
   },
   "outputs": [
    {
     "name": "stdout",
     "output_type": "stream",
     "text": [
      "GMM iteration: 0, error: 0.20276032428298818\n",
      "GMM iteration: 1, error: 0.05967110690273707\n",
      "GMM iteration: 2, error: 0.012208029408162877\n",
      "GMM iteration: 3, error: 0.003032847519465272\n",
      "GMM iteration: 4, error: 0.0006929119113580264\n"
     ]
    }
   ],
   "source": [
    "# train SGMM model with Log Regression\n",
    "np.random.seed( seed = 3957 )\n",
    "\n",
    "max_iter = 30\n",
    "max_iter2 = 30\n",
    "n_clusters = 8\n",
    "\n",
    "model = SupervisedGMM(max_iter=max_iter, max_iter2 = max_iter2, n_clusters = n_clusters, verbose = 0)\n",
    "model = model.fit(Xtrain = Xtrain, ytrain = ytrain)\n",
    "\n",
    "# Retrieve memberships and labels\n",
    "mTrainSGMM = model.mTrain\n",
    "logisRegreSGMM = model.LogRegr\n",
    "fitP = model.fitParams\n",
    "labTrainSGMM  = fitP['labTrain']\n",
    "mTestSGMM = model.predict_GMMS(Xtest)\n",
    "labTestSGMM = np.argmax( mTestSGMM, axis = 1 )\n",
    "\n",
    "# Summary of overall accuracy \n",
    "probTest, probTrain = model.predict_prob_int( Xtest = Xtest, Xtrain = Xtrain )\n",
    "tau = optimalTau(probTrain, ytrain)\n",
    "metTest,_ = calc_metrics(custom_prob = probTest.copy(), tau = tau, y = ytest)\n",
    "metTrain ,_= calc_metrics(custom_prob = probTrain.copy(), tau = tau, y = ytrain)\n",
    "metTestSGMM = pd.DataFrame( [metTest], columns = columns)\n",
    "metTrainSGMM = pd.DataFrame( [metTrain], columns = columns)\n",
    "\n",
    "# Cluster summary\n",
    "metTrainSGc, metTestSGc = metrics_cluster(models = logisRegreSGMM, ytrain = ytrain,\n",
    "                                        ytest = ytest, testlabels = labTestSGMM,\n",
    "                                        trainlabels = labTrainSGMM,\n",
    "                                        Xtrain = Xtrain, Xtest = Xtest)"
   ]
  },
  {
   "cell_type": "code",
   "execution_count": 21,
   "metadata": {
    "scrolled": true
   },
   "outputs": [
    {
     "name": "stdout",
     "output_type": "stream",
     "text": [
      "BMM iteration: 0, error: 0.05956246079127828\n",
      "BMM iteration: 1, error: 0.012337373483863457\n",
      "BMM iteration: 2, error: 0.01266240618360524\n",
      "BMM iteration: 3, error: 0.04061405027848652\n",
      "BMM iteration: 4, error: 0.06480344942806185\n",
      "BMM iteration: 5, error: 0.052282351250163464\n",
      "BMM iteration: 6, error: 0.05402750929868193\n",
      "BMM iteration: 7, error: 0.049680640240205895\n",
      "BMM iteration: 8, error: 0.034007107757107045\n",
      "BMM iteration: 9, error: 0.02152434792977026\n",
      "BMM iteration: 10, error: 0.01639227210332293\n",
      "BMM iteration: 11, error: 0.014915466318168277\n",
      "BMM iteration: 12, error: 0.013945724166356397\n",
      "BMM iteration: 13, error: 0.012211535194671557\n",
      "BMM iteration: 14, error: 0.010027819705238875\n",
      "BMM iteration: 15, error: 0.00770808272376263\n",
      "BMM iteration: 16, error: 0.0055139656366097675\n",
      "BMM iteration: 17, error: 0.003886611842106428\n",
      "BMM iteration: 18, error: 0.0029741389947466968\n",
      "BMM iteration: 19, error: 0.0022205666874090335\n",
      "BMM iteration: 20, error: 0.0018110393985449494\n",
      "BMM iteration: 21, error: 0.0016908088204132948\n",
      "BMM iteration: 22, error: 0.0017953594983671835\n",
      "BMM iteration: 23, error: 0.0020233507577237055\n",
      "BMM iteration: 24, error: 0.002339610595518901\n",
      "BMM iteration: 25, error: 0.002664080211627338\n",
      "BMM iteration: 26, error: 0.003029443156489073\n",
      "BMM iteration: 27, error: 0.0033376919894354275\n",
      "BMM iteration: 28, error: 0.003873922948071842\n",
      "BMM iteration: 29, error: 0.0048285884932492435\n"
     ]
    }
   ],
   "source": [
    "# train SBMM model with Log Regression\n",
    "np.random.seed( seed = 7332  )\n",
    "\n",
    "max_iter = 30\n",
    "max_iter2 = 30\n",
    "n_clusters = 8\n",
    "\n",
    "modelB = SupervisedBMM( max_iter =max_iter, n_clusters = n_clusters, max_iter2 = max_iter2,verbose =0)\n",
    "modelB = modelB.fitB( Xtrain = Xtrain, Xtest = Xtest, ytrain = ytrain)\n",
    "\n",
    "mTrainSBMM = modelB.mTrain\n",
    "logisRegreB = modelB.LogRegr\n",
    "fitPB = modelB.fitParams\n",
    "labTrainSBMM  = fitPB['labTrain']\n",
    "mTestSBMM = modelB.predict_BMMS(Xtest)\n",
    "labTestSBMM = np.argmax( mTestSBMM, axis = 1 )\n",
    "\n",
    "probTestB, probTrainB = modelB.predict_prob_int_B( Xtest = Xtest, Xtrain = Xtrain )\n",
    "tauB = optimalTau(probTrainB, ytrain)\n",
    "metTestB,_ = calc_metrics(custom_prob = probTestB.copy(), tau = tauB, y = ytest)\n",
    "metTrainB ,_= calc_metrics(custom_prob = probTrainB.copy(), tau = tauB, y = ytrain)\n",
    "metTestSBMM = pd.DataFrame( [metTestB], columns = columns)\n",
    "metTrainSBMM = pd.DataFrame( [metTrainB], columns = columns)\n",
    "\n",
    "metTrainSBc, metTestSBc = metrics_cluster(models = logisRegreB, ytrain = ytrain,\n",
    "                                        ytest = ytest, testlabels = labTestSBMM,\n",
    "                                        trainlabels = labTrainSBMM,\n",
    "                                        Xtrain = Xtrain, Xtest = Xtest)"
   ]
  },
  {
   "cell_type": "markdown",
   "metadata": {},
   "source": [
    "# Overall predition accuracy"
   ]
  },
  {
   "cell_type": "code",
   "execution_count": 22,
   "metadata": {},
   "outputs": [],
   "source": [
    "# Comparison acucuracy with other methods\n",
    "trainmet = pd.concat([metTrainNB, metTrainL1,metTrainNN,metTrainRF,metTrainXB,metTrainGB, metTrainKMS,metTrainKMSNB,metTrainGMMLG,metTrainBMMLG,metTrainSGMM,metTrainSBMM],ignore_index=True)\n",
    "testmet = pd.concat([metTestNB, metTestL1,metTestNN,metTestRF,metTestXB,metTestGB, metTestKMS,metTestKMSNB,metTestGMMLG,metTestBMMLG,metTestSGMM,metTestSBMM],ignore_index=True)\n",
    "method = ['Naive Bayes','L1 Log Reg','Neural Network','Random Forest','AdaBoost','GradBoost','KMS + Log Reg','KMS + NB', 'GMM + Log Reg', 'BMM + Log Reg', 'SGMM w/ Log Reg', 'SBMM w/ Log Reg']\n",
    "trainmet.insert(8,'method',method)\n",
    "testmet.insert(8,'method',method)"
   ]
  },
  {
   "cell_type": "code",
   "execution_count": 23,
   "metadata": {},
   "outputs": [
    {
     "name": "stdout",
     "output_type": "stream",
     "text": [
      "Overall prediction accuracy\n"
     ]
    },
    {
     "data": {
      "text/html": [
       "<div>\n",
       "<style scoped>\n",
       "    .dataframe tbody tr th:only-of-type {\n",
       "        vertical-align: middle;\n",
       "    }\n",
       "\n",
       "    .dataframe tbody tr th {\n",
       "        vertical-align: top;\n",
       "    }\n",
       "\n",
       "    .dataframe thead th {\n",
       "        text-align: right;\n",
       "    }\n",
       "</style>\n",
       "<table border=\"1\" class=\"dataframe\">\n",
       "  <thead>\n",
       "    <tr style=\"text-align: right;\">\n",
       "      <th></th>\n",
       "      <th>method</th>\n",
       "      <th>FPR</th>\n",
       "      <th>specificity</th>\n",
       "      <th>sensitivity</th>\n",
       "      <th>precision</th>\n",
       "      <th>accuracy</th>\n",
       "      <th>balanced accuracy</th>\n",
       "      <th>f1</th>\n",
       "      <th>auc</th>\n",
       "    </tr>\n",
       "  </thead>\n",
       "  <tbody>\n",
       "    <tr>\n",
       "      <th>0</th>\n",
       "      <td>Naive Bayes</td>\n",
       "      <td>0.25</td>\n",
       "      <td>0.75</td>\n",
       "      <td>0.68</td>\n",
       "      <td>0.48</td>\n",
       "      <td>0.73</td>\n",
       "      <td>0.71</td>\n",
       "      <td>0.56</td>\n",
       "      <td>0.80</td>\n",
       "    </tr>\n",
       "    <tr>\n",
       "      <th>1</th>\n",
       "      <td>L1 Log Reg</td>\n",
       "      <td>0.25</td>\n",
       "      <td>0.75</td>\n",
       "      <td>0.71</td>\n",
       "      <td>0.49</td>\n",
       "      <td>0.74</td>\n",
       "      <td>0.73</td>\n",
       "      <td>0.58</td>\n",
       "      <td>0.82</td>\n",
       "    </tr>\n",
       "    <tr>\n",
       "      <th>2</th>\n",
       "      <td>Neural Network</td>\n",
       "      <td>0.18</td>\n",
       "      <td>0.82</td>\n",
       "      <td>0.71</td>\n",
       "      <td>0.58</td>\n",
       "      <td>0.80</td>\n",
       "      <td>0.77</td>\n",
       "      <td>0.64</td>\n",
       "      <td>0.85</td>\n",
       "    </tr>\n",
       "    <tr>\n",
       "      <th>3</th>\n",
       "      <td>Random Forest</td>\n",
       "      <td>0.13</td>\n",
       "      <td>0.87</td>\n",
       "      <td>0.65</td>\n",
       "      <td>0.64</td>\n",
       "      <td>0.82</td>\n",
       "      <td>0.76</td>\n",
       "      <td>0.65</td>\n",
       "      <td>0.86</td>\n",
       "    </tr>\n",
       "    <tr>\n",
       "      <th>4</th>\n",
       "      <td>AdaBoost</td>\n",
       "      <td>0.27</td>\n",
       "      <td>0.73</td>\n",
       "      <td>0.71</td>\n",
       "      <td>0.48</td>\n",
       "      <td>0.73</td>\n",
       "      <td>0.72</td>\n",
       "      <td>0.57</td>\n",
       "      <td>0.81</td>\n",
       "    </tr>\n",
       "    <tr>\n",
       "      <th>5</th>\n",
       "      <td>GradBoost</td>\n",
       "      <td>0.25</td>\n",
       "      <td>0.75</td>\n",
       "      <td>0.74</td>\n",
       "      <td>0.50</td>\n",
       "      <td>0.75</td>\n",
       "      <td>0.75</td>\n",
       "      <td>0.60</td>\n",
       "      <td>0.83</td>\n",
       "    </tr>\n",
       "    <tr>\n",
       "      <th>6</th>\n",
       "      <td>KMS + Log Reg</td>\n",
       "      <td>0.18</td>\n",
       "      <td>0.82</td>\n",
       "      <td>0.69</td>\n",
       "      <td>0.57</td>\n",
       "      <td>0.79</td>\n",
       "      <td>0.76</td>\n",
       "      <td>0.62</td>\n",
       "      <td>0.85</td>\n",
       "    </tr>\n",
       "    <tr>\n",
       "      <th>7</th>\n",
       "      <td>KMS + NB</td>\n",
       "      <td>0.20</td>\n",
       "      <td>0.80</td>\n",
       "      <td>0.69</td>\n",
       "      <td>0.54</td>\n",
       "      <td>0.77</td>\n",
       "      <td>0.74</td>\n",
       "      <td>0.61</td>\n",
       "      <td>0.83</td>\n",
       "    </tr>\n",
       "    <tr>\n",
       "      <th>8</th>\n",
       "      <td>GMM + Log Reg</td>\n",
       "      <td>0.22</td>\n",
       "      <td>0.78</td>\n",
       "      <td>0.73</td>\n",
       "      <td>0.53</td>\n",
       "      <td>0.77</td>\n",
       "      <td>0.75</td>\n",
       "      <td>0.61</td>\n",
       "      <td>0.83</td>\n",
       "    </tr>\n",
       "    <tr>\n",
       "      <th>9</th>\n",
       "      <td>BMM + Log Reg</td>\n",
       "      <td>0.16</td>\n",
       "      <td>0.84</td>\n",
       "      <td>0.68</td>\n",
       "      <td>0.59</td>\n",
       "      <td>0.80</td>\n",
       "      <td>0.76</td>\n",
       "      <td>0.63</td>\n",
       "      <td>0.85</td>\n",
       "    </tr>\n",
       "    <tr>\n",
       "      <th>10</th>\n",
       "      <td>SGMM w/ Log Reg</td>\n",
       "      <td>0.26</td>\n",
       "      <td>0.74</td>\n",
       "      <td>0.72</td>\n",
       "      <td>0.49</td>\n",
       "      <td>0.74</td>\n",
       "      <td>0.73</td>\n",
       "      <td>0.58</td>\n",
       "      <td>0.82</td>\n",
       "    </tr>\n",
       "    <tr>\n",
       "      <th>11</th>\n",
       "      <td>SBMM w/ Log Reg</td>\n",
       "      <td>0.16</td>\n",
       "      <td>0.84</td>\n",
       "      <td>0.68</td>\n",
       "      <td>0.59</td>\n",
       "      <td>0.80</td>\n",
       "      <td>0.76</td>\n",
       "      <td>0.63</td>\n",
       "      <td>0.85</td>\n",
       "    </tr>\n",
       "  </tbody>\n",
       "</table>\n",
       "</div>"
      ],
      "text/plain": [
       "             method   FPR  specificity  sensitivity  precision  accuracy  \\\n",
       "0       Naive Bayes  0.25         0.75         0.68       0.48      0.73   \n",
       "1        L1 Log Reg  0.25         0.75         0.71       0.49      0.74   \n",
       "2    Neural Network  0.18         0.82         0.71       0.58      0.80   \n",
       "3     Random Forest  0.13         0.87         0.65       0.64      0.82   \n",
       "4          AdaBoost  0.27         0.73         0.71       0.48      0.73   \n",
       "5         GradBoost  0.25         0.75         0.74       0.50      0.75   \n",
       "6     KMS + Log Reg  0.18         0.82         0.69       0.57      0.79   \n",
       "7          KMS + NB  0.20         0.80         0.69       0.54      0.77   \n",
       "8     GMM + Log Reg  0.22         0.78         0.73       0.53      0.77   \n",
       "9     BMM + Log Reg  0.16         0.84         0.68       0.59      0.80   \n",
       "10  SGMM w/ Log Reg  0.26         0.74         0.72       0.49      0.74   \n",
       "11  SBMM w/ Log Reg  0.16         0.84         0.68       0.59      0.80   \n",
       "\n",
       "    balanced accuracy    f1   auc  \n",
       "0                0.71  0.56  0.80  \n",
       "1                0.73  0.58  0.82  \n",
       "2                0.77  0.64  0.85  \n",
       "3                0.76  0.65  0.86  \n",
       "4                0.72  0.57  0.81  \n",
       "5                0.75  0.60  0.83  \n",
       "6                0.76  0.62  0.85  \n",
       "7                0.74  0.61  0.83  \n",
       "8                0.75  0.61  0.83  \n",
       "9                0.76  0.63  0.85  \n",
       "10               0.73  0.58  0.82  \n",
       "11               0.76  0.63  0.85  "
      ]
     },
     "execution_count": 23,
     "metadata": {},
     "output_type": "execute_result"
    }
   ],
   "source": [
    "print( 'Overall prediction accuracy')\n",
    "testmet.iloc[:,8:].round(2)"
   ]
  },
  {
   "cell_type": "markdown",
   "metadata": {},
   "source": [
    "# Cadre wise prediction accuracy"
   ]
  },
  {
   "cell_type": "code",
   "execution_count": 24,
   "metadata": {},
   "outputs": [
    {
     "name": "stdout",
     "output_type": "stream",
     "text": [
      "Kmeans + LG\n",
      "     size  high_cost%    f1   auc\n",
      "0  2877.0        0.13  0.57  0.90\n",
      "1  3047.0        0.16  0.55  0.85\n",
      "2  3175.0        0.22  0.51  0.76\n",
      "3  2160.0        0.23  0.60  0.85\n",
      "4  4991.0        0.24  0.56  0.79\n",
      "5  3222.0        0.31  0.63  0.82\n",
      "6  3221.0        0.32  0.65  0.83\n",
      "7  2477.0        0.43  0.80  0.90\n",
      "GMM + LG\n",
      "     size  high_cost%    f1   auc\n",
      "0  1952.0        0.15  0.51  0.83\n",
      "1  3163.0        0.19  0.58  0.84\n",
      "2  7716.0        0.23  0.64  0.87\n",
      "3  5954.0        0.24  0.54  0.78\n",
      "4   203.0        0.26  0.57  0.81\n",
      "5  3714.0        0.29  0.59  0.78\n",
      "6   564.0        0.38  0.62  0.74\n",
      "7  1904.0        0.51  0.74  0.81\n",
      "BMM + LG\n",
      "     size  high_cost%    f1   auc\n",
      "0  3558.0        0.16  0.66  0.92\n",
      "1  3200.0        0.17  0.59  0.86\n",
      "2  5263.0        0.24  0.55  0.78\n",
      "3  3364.0        0.26  0.61  0.81\n",
      "4  2315.0        0.27  0.60  0.81\n",
      "5  3015.0        0.28  0.66  0.85\n",
      "6  1927.0        0.30  0.67  0.84\n",
      "7  2528.0        0.42  0.74  0.85\n",
      "SGMM w/ LG\n",
      "      size  high_cost%    f1   auc\n",
      "0    132.0        0.06  0.63  0.95\n",
      "1    228.0        0.06  0.53  0.92\n",
      "2    318.0        0.12  0.49  0.91\n",
      "3    653.0        0.17  0.58  0.87\n",
      "4    121.0        0.18  0.49  0.86\n",
      "5    106.0        0.21  0.37  0.83\n",
      "6  23504.0        0.26  0.58  0.81\n",
      "7    108.0        0.31  0.66  0.84\n",
      "SBMM w/ LG\n",
      "     size  high_cost%    f1   auc\n",
      "0  3449.0        0.07  0.53  0.91\n",
      "1  2486.0        0.09  0.61  0.92\n",
      "2  6521.0        0.20  0.49  0.76\n",
      "3  3343.0        0.24  0.55  0.79\n",
      "4  1573.0        0.31  0.62  0.83\n",
      "5  1012.0        0.33  0.69  0.87\n",
      "6  2421.0        0.38  0.70  0.83\n",
      "7  4365.0        0.48  0.71  0.76\n"
     ]
    }
   ],
   "source": [
    "print('Kmeans + LG')\n",
    "print(metTestKMc.round(2).sort_values(by ='high_cost%').reset_index().iloc[:,np.r_[2:4,-2,-1]])\n",
    "#print('Kmeans + NB')\n",
    "#print(metTestKMcNB.round(2).sort_values(by ='high_cost%').reset_index().iloc[:,np.r_[2:4,-2,-1]])\n",
    "print('GMM + LG')\n",
    "print(metTestGMMLGc.round(2).sort_values(by ='high_cost%').reset_index().iloc[:,np.r_[2:4,-2,-1]])\n",
    "print('BMM + LG')\n",
    "print(metTestBMMLGc.round(2).sort_values(by ='high_cost%').reset_index().iloc[:,np.r_[2:4,-2,-1]])\n",
    "print('SGMM w/ LG')\n",
    "print(metTestSGc.round(2).sort_values(by ='high_cost%').reset_index().iloc[:,np.r_[2:4,-2,-1]]) #.iloc [[1,0,2,3,4],:]) \n",
    "print('SBMM w/ LG')\n",
    "print(metTestSBc.round(2).sort_values(by ='high_cost%').reset_index().iloc[:,np.r_[2:4,-2,-1]])"
   ]
  },
  {
   "cell_type": "markdown",
   "metadata": {},
   "source": [
    "# Stratification"
   ]
  },
  {
   "cell_type": "code",
   "execution_count": 25,
   "metadata": {},
   "outputs": [
    {
     "data": {
      "image/png": "[encoded data removed]",
      "text/plain": [
       "<Figure size 1080x720 with 4 Axes>"
      ]
     },
     "metadata": {
      "needs_background": "light"
     },
     "output_type": "display_data"
    }
   ],
   "source": [
    "plt.figure(figsize=(15,10))\n",
    "\n",
    "plt.subplot(2, 2, 1)\n",
    "sns.lineplot(x=np.arange(metTrainGMMLGc.shape[0]), y=sorted(metTrainGMMLGc['high_cost%']))\n",
    "sns.lineplot(x=np.arange(metTrainGMMLGc.shape[0]), y= metTrainGMMLGc.sort_values(by ='high_cost%')['size']/Xtrain.shape[0])\n",
    "plt.title('GMM + LG',fontsize=16)\n",
    "plt.xticks(range(n_clusters),fontsize=12)\n",
    "plt.ylabel('')\n",
    "plt.ylim(0,1)\n",
    "plt.yticks(fontsize=12)\n",
    "plt.legend(labels = ['High Cost','Size'],fontsize=12)\n",
    "\n",
    "plt.subplot(2, 2, 2)\n",
    "sns.lineplot(x=np.arange(metTrainBMMLGc.shape[0]), y=sorted(metTrainBMMLGc['high_cost%']))\n",
    "sns.lineplot(x=np.arange(metTrainBMMLGc.shape[0]), y= metTrainBMMLGc.sort_values(by ='high_cost%')['size']/Xtrain.shape[0])\n",
    "plt.title('BMM + LG',fontsize=16)\n",
    "plt.xticks(range(n_clusters),fontsize=12)\n",
    "plt.ylabel('')\n",
    "plt.ylim(0,1)\n",
    "plt.yticks(fontsize=12)\n",
    "plt.legend(labels = ['High Cost','Size'],fontsize=12)\n",
    "\n",
    "\n",
    "plt.subplot(2, 2, 3)\n",
    "sns.lineplot(x=np.arange(metTrainSGc.shape[0]), y=sorted(metTrainSGc['high_cost%']))\n",
    "sns.lineplot(x=np.arange(metTrainSGc.shape[0]), y= metTrainSGc.sort_values(by ='high_cost%')['size']/Xtrain.shape[0])\n",
    "plt.title('SGMM w/ LG',fontsize=16)\n",
    "plt.xticks(range(n_clusters),fontsize=12)\n",
    "plt.ylabel('')\n",
    "plt.ylim(0,1)\n",
    "plt.yticks(fontsize=12)\n",
    "plt.legend(labels = ['High Cost','Size'],fontsize=12)\n",
    "\n",
    "plt.subplot(2, 2, 4)\n",
    "sns.lineplot(x=np.arange(metTrainSBc.shape[0]), y=sorted(metTrainSBc['high_cost%']))\n",
    "sns.lineplot(x=np.arange(metTrainSBc.shape[0]), y= metTrainSBc.sort_values(by ='high_cost%')['size']/Xtrain.shape[0])\n",
    "plt.title('SBMM w/ LG ',fontsize=16)\n",
    "plt.xticks(range(n_clusters),fontsize=12)\n",
    "plt.ylabel('')\n",
    "plt.ylim(0,1)\n",
    "plt.yticks(fontsize=12)\n",
    "plt.legend(labels = ['High Cost','Size'],fontsize=12)\n",
    "\n",
    "plt.show()"
   ]
  },
  {
   "cell_type": "markdown",
   "metadata": {},
   "source": [
    "# Class entropy by stratification"
   ]
  },
  {
   "cell_type": "code",
   "execution_count": 26,
   "metadata": {},
   "outputs": [
    {
     "name": "stdout",
     "output_type": "stream",
     "text": [
      "purity of low/high risk by KMS + LG is :0.1112674532072091 and :0.11094250769379632\n",
      "purity of low/high risk by GMM+ LG is :0.0577528432961294 and :0.17687352395775546\n",
      "purity of low/high risk by BMM+ LG is :0.05427991450378222 and :0.09769663137077123\n",
      "purity of low/high risk by SGMM w/ LG is :0.340676993973661 and :0.13713485931148195 \n",
      "purity of low/high risk by SBMM w/ LG is :0.2756905741366156 and :0.16555350845345773\n"
     ]
    }
   ],
   "source": [
    "# calculate cadre entropy\n",
    "class_prior = d_preg_tr['Target'].value_counts(normalize=True)[1]\n",
    "purityKMSLGlow,purityKMSLGhigh= purity(metTrainKMc.sort_values(by ='high_cost%')['high_cost%'].values,metTrainKMc.sort_values(by ='high_cost%')['size'].values,class_prior)\n",
    "print('purity of low/high risk by KMS + LG is :{} and :{}' .format(purityKMSLGlow,purityKMSLGhigh ))\n",
    "purityGMMLGlow,purityGMMLGhigh= purity(metTrainGMMLGc.sort_values(by ='high_cost%')['high_cost%'].values,metTrainGMMLGc.sort_values(by ='high_cost%')['size'].values,class_prior)\n",
    "print ('purity of low/high risk by GMM+ LG is :{} and :{}'.format( purityGMMLGlow,purityGMMLGhigh ))\n",
    "purityBMMLGlow,purityBMMLGhigh= purity(metTrainBMMLGc.sort_values(by ='high_cost%')['high_cost%'].values,metTrainBMMLGc.sort_values(by ='high_cost%')['size'].values,class_prior)\n",
    "print ('purity of low/high risk by BMM+ LG is :{} and :{}'.format (purityBMMLGlow,purityBMMLGhigh ) )\n",
    "puritySGMMLGlow,puritySGMMLGhigh = purity(metTrainSGc.sort_values(by ='high_cost%')['high_cost%'].values,metTrainSGc.sort_values(by ='high_cost%')['size'].values,class_prior)\n",
    "print ('purity of low/high risk by SGMM w/ LG is :{} and :{} '.format (puritySGMMLGlow,puritySGMMLGhigh ) )\n",
    "puritySBMMLGlow,puritySBMMLGhigh= purity(metTrainSBc.sort_values(by ='high_cost%')['high_cost%'].values,metTrainSBc.sort_values(by ='high_cost%')['size'].values,class_prior)\n",
    "print ('purity of low/high risk by SBMM w/ LG is :{} and :{}'.format (puritySBMMLGlow,puritySBMMLGhigh) )"
   ]
  },
  {
   "cell_type": "markdown",
   "metadata": {},
   "source": [
    "# Cadre Assigment confidence "
   ]
  },
  {
   "cell_type": "code",
   "execution_count": 27,
   "metadata": {},
   "outputs": [
    {
     "name": "stdout",
     "output_type": "stream",
     "text": [
      "GMM + LG average conditional entropy for each cadre is  0.033245780352324485\n",
      "BMM + LG average conditional entropy for each cadre is  0.1382525684364014\n",
      "SGMM w/ LG average conditional entropy for each cadre is  0.06047091835405704\n",
      "SBMM w/ LG average conditional entropy for each cadre is  0.22857675401269528\n"
     ]
    }
   ],
   "source": [
    "# conditional entropy for each method\n",
    "condEntropyGMMLG = entropy(mTrainGMMLG[:,np.argsort(metTrainGMMLGc['high_cost%'])],n_clusters)\n",
    "condEntropyBMMLG = entropy(mTrainBMMLG[:,np.argsort(metTrainBMMLGc['high_cost%'])],n_clusters)\n",
    "condEntropySGMM = entropy(mTrainSGMM[:,np.argsort(metTrainSGc['high_cost%'])],n_clusters)\n",
    "condEntropySBMM = entropy(mTrainSBMM[:,np.argsort(metTrainSBc['high_cost%'])],n_clusters)\n",
    "print('GMM + LG average conditional entropy for each cadre is  {}'.format(np.mean(condEntropyGMMLG)))\n",
    "print('BMM + LG average conditional entropy for each cadre is  {}'.format(np.mean(condEntropyBMMLG)))\n",
    "print('SGMM w/ LG average conditional entropy for each cadre is  {}'.format(np.mean(condEntropySGMM)))\n",
    "print('SBMM w/ LG average conditional entropy for each cadre is  {}'.format(np.mean(condEntropySBMM)))"
   ]
  },
  {
   "cell_type": "code",
   "execution_count": 28,
   "metadata": {},
   "outputs": [
    {
     "name": "stdout",
     "output_type": "stream",
     "text": [
      "GMM + LG conditional entropy for each cadre is  [0.00462763 0.0032414  0.01706372 0.00135824 0.0024582  0.15259575\n",
      " 0.07431363 0.01030766]\n",
      "BMM + LG conditional entropy for each cadre is  [0.06318883 0.12696895 0.07983285 0.25941411 0.14240255 0.03209649\n",
      " 0.34303468 0.05908209]\n",
      "SGMM w/ LG conditional entropy for each cadre is  [0.03380356 0.04473005 0.09465331 0.01910203 0.06573419 0.08501591\n",
      " 0.00634488 0.13438343]\n",
      "SBMM w/ LG conditional entropy for each cadre is  [0.28182574 0.02216401 0.02442244 0.46758565 0.45542108 0.08279259\n",
      " 0.08814282 0.40625969]\n"
     ]
    }
   ],
   "source": [
    "# conditional entropy for each cluster\n",
    "print('GMM + LG conditional entropy for each cadre is  {}'.format(condEntropyGMMLG))\n",
    "print('BMM + LG conditional entropy for each cadre is  {}'.format(condEntropyBMMLG))\n",
    "print('SGMM w/ LG conditional entropy for each cadre is  {}'.format(condEntropySGMM))\n",
    "print('SBMM w/ LG conditional entropy for each cadre is  {}'.format(condEntropySBMM))"
   ]
  }
 ],
 "metadata": {
  "kernelspec": {
   "display_name": "Python (health3)",
   "language": "python",
   "name": "health3"
  },
  "language_info": {
   "codemirror_mode": {
    "name": "ipython",
    "version": 3
   },
   "file_extension": ".py",
   "mimetype": "text/x-python",
   "name": "python",
   "nbconvert_exporter": "python",
   "pygments_lexer": "ipython3",
   "version": "3.7.3"
  }
 },
 "nbformat": 4,
 "nbformat_minor": 2
}
